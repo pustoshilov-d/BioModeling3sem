{
 "cells": [
  {
   "cell_type": "markdown",
   "metadata": {},
   "source": [
    "https://gist.github.com/comcon1/5448f416726b7123a4ef82c177cb5690#file-readme-ipynb\n"
   ]
  },
  {
   "cell_type": "code",
   "execution_count": 8,
   "metadata": {},
   "outputs": [],
   "source": [
    "import numpy as np\n",
    "import matplotlib.pyplot as plt"
   ]
  },
  {
   "cell_type": "markdown",
   "metadata": {},
   "source": [
    "# Centrum phase portrait\n",
    "\n",
    "To realize the code built for centrum, we should do some math before.\n",
    "\n",
    "## Building precise solutions\n",
    "\n",
    "Let us assume eigenvalues being $\\pm i \\lambda$ and eigenvectors being $v \\pm i w$. One can extract $\\lambda$, *v* and *w* by this code:"
   ]
  },
  {
   "cell_type": "code",
   "execution_count": 2,
   "metadata": {},
   "outputs": [],
   "source": [
    "mtx = [[1,-2],[2,-1]]\n",
    "el,ev = np.linalg.eig(mtx)\n",
    "L = np.imag(el[0])\n",
    "v = np.real(ev[:,0])\n",
    "w = np.imag(ev[:,0])"
   ]
  },
  {
   "cell_type": "markdown",
   "metadata": {},
   "source": [
    "Fundamental set of the solution is:\n",
    "\n",
    "* $1/2 \\left( (v+iw) e^{i\\lambda t} + (v-iw) e^{-i\\lambda t} \\right) = v \\cos {\\lambda t} - w \\sin {\\lambda t}$\n",
    "* $-i/2\\left((v+iw) e^{i\\lambda t} - (v-iw) e^{-i\\lambda t}\\right) = w \\cos {\\lambda t} + v \\sin {\\lambda t}$\n",
    "\n",
    "Precise solution can be written as:\n",
    "$\\left(C_1 v + C_2 w \\right) \\cos {\\lambda t} + \\left(C_2 v - C_1 w \\right) \\sin {\\lambda t}$\n",
    "\n",
    "To write this in python, use (2,1)-reshaped vectors alongside standard (n,)-shaped time vector:"
   ]
  },
  {
   "cell_type": "code",
   "execution_count": 3,
   "metadata": {},
   "outputs": [],
   "source": [
    "c1 = 1; c2 = 2\n",
    "tt = np.linspace(0,100,1000)\n",
    "v = v.reshape((2,1)); w = w.reshape((2,1))\n",
    "zz = (c1*v + c2*w)*np.cos(L*tt) + (c2*v - c1*w)*np.sin(L*tt)\n",
    "zz = zz.T"
   ]
  },
  {
   "cell_type": "markdown",
   "metadata": {},
   "source": [
    "After transposition, solution array *zz* has the same shape as if it was built by *odeint*.\n",
    "\n",
    "## Ellipse axes\n",
    "\n",
    "To find ellipse axes, we can find lines, which are orthogonal to vector field in all their points. To find such lines, we rotate Jacobi matrix by 90° and find eigenvalues/vectors of the rotated matrix.\n",
    "\n",
    "$\\left( \\mathbb{R} \\cdot \\mathbb{J} \\right) \\cdot \\overline{v_i} = \\omega_i \\overline{v_i}$, \n",
    "where $\\mathbb{R} = \\left(\\begin{matrix} 0 & 1 \\\\ -1 & 0 \\end{matrix}\\right)$\n",
    "\n",
    "Note, that vector corresponding to lower eigenvalue lays on major ellipse axis."
   ]
  },
  {
   "cell_type": "code",
   "execution_count": 4,
   "metadata": {},
   "outputs": [],
   "source": [
    "rot90 = np.array([[0,1],[-1,0]])\n",
    "mtx90 = np.dot(rot90, mtx)\n",
    "vals, vecs = np.linalg.eig(mtx90)"
   ]
  },
  {
   "cell_type": "markdown",
   "metadata": {},
   "source": [
    "# Focus portrait\n",
    "\n",
    "To achive focus code, very minor improvements should be done. Let's repeat some code for new Jacobi matrix:"
   ]
  },
  {
   "cell_type": "code",
   "execution_count": 5,
   "metadata": {},
   "outputs": [],
   "source": [
    "mtx = [[1.3, -2],[2.6,-2.2]]\n",
    "el,ev = np.linalg.eig(mtx)\n",
    "L = np.imag(el[0])\n",
    "v = np.real(ev[:,0]).reshape((2,1))\n",
    "w = np.imag(ev[:,0]).reshape((2,1))"
   ]
  },
  {
   "cell_type": "markdown",
   "metadata": {},
   "source": [
    "Now, our eigenvalues are of the form $\\rho \\pm i \\lambda$. Then we should extract real part of eigenvalue as well:"
   ]
  },
  {
   "cell_type": "code",
   "execution_count": 6,
   "metadata": {},
   "outputs": [],
   "source": [
    "R = np.real(el[0])"
   ]
  },
  {
   "cell_type": "markdown",
   "metadata": {},
   "source": [
    "Fundamental system of the solution will be:\n",
    "* $e^{\\rho t} \\left[ v \\cos {\\lambda t} - w \\sin {\\lambda t} \\right]$\n",
    "* $e^{\\rho t} \\left[ w \\cos {\\lambda t} + v \\sin {\\lambda t} \\right]$\n",
    "\n",
    "So, the new code for *zz* will be:"
   ]
  },
  {
   "cell_type": "code",
   "execution_count": 9,
   "metadata": {},
   "outputs": [
    {
     "data": {
      "text/plain": [
       "[<matplotlib.lines.Line2D at 0x227148b7df0>]"
      ]
     },
     "execution_count": 9,
     "metadata": {},
     "output_type": "execute_result"
    },
    {
     "data": {
      "image/png": "[encoded data removed]",
      "text/plain": [
       "<Figure size 432x288 with 1 Axes>"
      ]
     },
     "metadata": {
      "needs_background": "light"
     },
     "output_type": "display_data"
    }
   ],
   "source": [
    "zz = np.exp(R*tt)*( (c1*v + c2*w)*np.cos(L*tt) \n",
    "      + (c2*v - c1*w)*np.sin(L*tt) )\n",
    "\n",
    "plt.plot(zz[:,0],zz[:,2])"
   ]
  },
  {
   "cell_type": "markdown",
   "metadata": {},
   "source": [
    "Note that eigen vectors for 90-rotated Jacoby operator can also be drawn on our portrait. If focus spiral are flattened then these vectors reflects \"flattening\" direction."
   ]
  }
 ],
 "metadata": {
  "kernelspec": {
   "display_name": "Python 3",
   "language": "python",
   "name": "python3"
  },
  "language_info": {
   "codemirror_mode": {
    "name": "ipython",
    "version": 3
   },
   "file_extension": ".py",
   "mimetype": "text/x-python",
   "name": "python",
   "nbconvert_exporter": "python",
   "pygments_lexer": "ipython3",
   "version": "3.10.0"
  }
 },
 "nbformat": 4,
 "nbformat_minor": 4
}
